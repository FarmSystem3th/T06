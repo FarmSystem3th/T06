{
 "cells": [
  {
   "cell_type": "markdown",
   "metadata": {},
   "source": [
    "# 데이터셋 구축"
   ]
  },
  {
   "cell_type": "code",
   "execution_count": 5,
   "metadata": {},
   "outputs": [],
   "source": [
    "import os\n",
    "import glob\n",
    "\n",
    "import json\n",
    "import pandas as pd\n",
    "from concurrent.futures import ProcessPoolExecutor"
   ]
  },
  {
   "cell_type": "code",
   "execution_count": 3,
   "metadata": {},
   "outputs": [],
   "source": [
    "# JSON 파일이 저장된 폴더 경로\n",
    "folder_path = \"C:/Users/pc/Desktop/민지/교내 동아리(FARM)/동국대_산학연계 프로그램/024.아동·청소년 상담 데이터/3.개방데이터/1.데이터/Training/02.라벨링데이터/TL_out\"\n",
    "\n",
    "# 모든 JSON 파일 경로 리스트 만들기\n",
    "json_files = glob.glob(os.path.join(folder_path, '*.json'))"
   ]
  },
  {
   "cell_type": "code",
   "execution_count": 4,
   "metadata": {},
   "outputs": [],
   "source": [
    "#json에서 정보 추출\n",
    "def extract_info(file_path):\n",
    "    with open(file_path, 'r', encoding='utf-8') as f:\n",
    "        data = json.load(f)\n",
    "    ID = data['info']['ID']\n",
    "    위기단계 = data['info']['위기단계']\n",
    "    audio_text = []\n",
    "\n",
    "    for category in data['list']:\n",
    "        for item in category['list']:\n",
    "            if 'audio' in item:\n",
    "                for audio in item['audio']:\n",
    "                    #if audio['type'] == 'A':  # 'type'이 'A'인 경우만 추가",
    "                    audio_text.append(audio['text'])\n",
    "\n",
    "    return {'ID': ID, '위기단계': 위기단계, 'audio_text': audio_text}"
   ]
  },
  {
   "cell_type": "code",
   "execution_count": 7,
   "metadata": {},
   "outputs": [],
   "source": [
    "# 순차적으로 파일 처리\n",
    "extracted_data = []\n",
    "for file_path in json_files:\n",
    "    extracted_data.append(extract_info(file_path))"
   ]
  },
  {
   "cell_type": "code",
   "execution_count": 12,
   "metadata": {},
   "outputs": [
    {
     "data": {
      "text/html": [
       "<div>\n",
       "<style scoped>\n",
       "    .dataframe tbody tr th:only-of-type {\n",
       "        vertical-align: middle;\n",
       "    }\n",
       "\n",
       "    .dataframe tbody tr th {\n",
       "        vertical-align: top;\n",
       "    }\n",
       "\n",
       "    .dataframe thead th {\n",
       "        text-align: right;\n",
       "    }\n",
       "</style>\n",
       "<table border=\"1\" class=\"dataframe\">\n",
       "  <thead>\n",
       "    <tr style=\"text-align: right;\">\n",
       "      <th></th>\n",
       "      <th>ID</th>\n",
       "      <th>위기단계</th>\n",
       "      <th>audio_text</th>\n",
       "    </tr>\n",
       "  </thead>\n",
       "  <tbody>\n",
       "    <tr>\n",
       "      <th>0</th>\n",
       "      <td>0002</td>\n",
       "      <td>학대의심</td>\n",
       "      <td>[요즘 건강한가요?, 네. 건강해요., 어디를 다쳤어요?, 무릎이 까졌어요., 언제...</td>\n",
       "    </tr>\n",
       "    <tr>\n",
       "      <th>1</th>\n",
       "      <td>0004</td>\n",
       "      <td>학대의심</td>\n",
       "      <td>[아픈 곳 있어요?, 네. 일주일 전에 머리를 많이 맞았는데 계속 아파요., 누구에...</td>\n",
       "    </tr>\n",
       "    <tr>\n",
       "      <th>2</th>\n",
       "      <td>0005</td>\n",
       "      <td>상담필요</td>\n",
       "      <td>[최근에 건강한가요? 아픈 곳은 없나요?, 건강해요., 최근에 다쳤던 적이 있나요?...</td>\n",
       "    </tr>\n",
       "    <tr>\n",
       "      <th>3</th>\n",
       "      <td>0006</td>\n",
       "      <td>응급</td>\n",
       "      <td>[최근에 다치거나 아팠나요?, 네. 다쳤어요., 어디를 다쳤나요?, 손바닥이랑 종아...</td>\n",
       "    </tr>\n",
       "    <tr>\n",
       "      <th>4</th>\n",
       "      <td>0007</td>\n",
       "      <td>학대의심</td>\n",
       "      <td>[우리 친구 몸 상태는 어때? 건강해 아니면 아픈 곳이 있어?, 허벅지랑 입이 아파...</td>\n",
       "    </tr>\n",
       "    <tr>\n",
       "      <th>...</th>\n",
       "      <td>...</td>\n",
       "      <td>...</td>\n",
       "      <td>...</td>\n",
       "    </tr>\n",
       "    <tr>\n",
       "      <th>2871</th>\n",
       "      <td>5194</td>\n",
       "      <td>응급</td>\n",
       "      <td>[최근에 건강해? 혹시 아픈 곳 있어?, 배가 아파요., 배가 어떻게 아파?, 모르...</td>\n",
       "    </tr>\n",
       "    <tr>\n",
       "      <th>2872</th>\n",
       "      <td>5196</td>\n",
       "      <td>응급</td>\n",
       "      <td>[최근에 건강해? 혹시 아픈 곳 있어?, 아픈 곳 없어요., 최근에 다친 적 있었어...</td>\n",
       "    </tr>\n",
       "    <tr>\n",
       "      <th>2873</th>\n",
       "      <td>5247</td>\n",
       "      <td>관찰필요</td>\n",
       "      <td>[최근에 건강한가요?, 모르겠어요., 아픈 곳이 없나요?, 네. 없는데요., 최근에...</td>\n",
       "    </tr>\n",
       "    <tr>\n",
       "      <th>2874</th>\n",
       "      <td>5248</td>\n",
       "      <td>정상군</td>\n",
       "      <td>[최근에 건강한가요? 아픈 곳이 없나요?, 네. 아픈 곳 없이 건강해요., 최근에 ...</td>\n",
       "    </tr>\n",
       "    <tr>\n",
       "      <th>2875</th>\n",
       "      <td>5250</td>\n",
       "      <td>학대의심</td>\n",
       "      <td>[최근에 건강은 어때요? 아픈 곳 있어요?, 아픈 곳 없어요., 최근에 다친 적 있...</td>\n",
       "    </tr>\n",
       "  </tbody>\n",
       "</table>\n",
       "<p>2876 rows × 3 columns</p>\n",
       "</div>"
      ],
      "text/plain": [
       "        ID  위기단계                                         audio_text\n",
       "0     0002  학대의심  [요즘 건강한가요?, 네. 건강해요., 어디를 다쳤어요?, 무릎이 까졌어요., 언제...\n",
       "1     0004  학대의심  [아픈 곳 있어요?, 네. 일주일 전에 머리를 많이 맞았는데 계속 아파요., 누구에...\n",
       "2     0005  상담필요  [최근에 건강한가요? 아픈 곳은 없나요?, 건강해요., 최근에 다쳤던 적이 있나요?...\n",
       "3     0006    응급  [최근에 다치거나 아팠나요?, 네. 다쳤어요., 어디를 다쳤나요?, 손바닥이랑 종아...\n",
       "4     0007  학대의심  [우리 친구 몸 상태는 어때? 건강해 아니면 아픈 곳이 있어?, 허벅지랑 입이 아파...\n",
       "...    ...   ...                                                ...\n",
       "2871  5194    응급  [최근에 건강해? 혹시 아픈 곳 있어?, 배가 아파요., 배가 어떻게 아파?, 모르...\n",
       "2872  5196    응급  [최근에 건강해? 혹시 아픈 곳 있어?, 아픈 곳 없어요., 최근에 다친 적 있었어...\n",
       "2873  5247  관찰필요  [최근에 건강한가요?, 모르겠어요., 아픈 곳이 없나요?, 네. 없는데요., 최근에...\n",
       "2874  5248   정상군  [최근에 건강한가요? 아픈 곳이 없나요?, 네. 아픈 곳 없이 건강해요., 최근에 ...\n",
       "2875  5250  학대의심  [최근에 건강은 어때요? 아픈 곳 있어요?, 아픈 곳 없어요., 최근에 다친 적 있...\n",
       "\n",
       "[2876 rows x 3 columns]"
      ]
     },
     "execution_count": 12,
     "metadata": {},
     "output_type": "execute_result"
    }
   ],
   "source": [
    "df = pd.DataFrame(extracted_data)\n",
    "df"
   ]
  }
 ],
 "metadata": {
  "kernelspec": {
   "display_name": "base",
   "language": "python",
   "name": "python3"
  },
  "language_info": {
   "codemirror_mode": {
    "name": "ipython",
    "version": 3
   },
   "file_extension": ".py",
   "mimetype": "text/x-python",
   "name": "python",
   "nbconvert_exporter": "python",
   "pygments_lexer": "ipython3",
   "version": "3.11.4"
  }
 },
 "nbformat": 4,
 "nbformat_minor": 2
}
