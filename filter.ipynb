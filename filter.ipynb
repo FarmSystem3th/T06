{
 "cells": [
  {
   "cell_type": "code",
   "execution_count": null,
   "metadata": {},
   "outputs": [],
   "source": [
    "import json\n",
    "import csv\n",
    "import os"
   ]
  },
  {
   "cell_type": "code",
   "execution_count": null,
   "metadata": {},
   "outputs": [],
   "source": [
    "# JSON 파일들이 담긴 디렉토리 경로\n",
    "input_directory = 'out/'\n",
    "output_directory = 'out_csv/'"
   ]
  },
  {
   "cell_type": "code",
   "execution_count": null,
   "metadata": {},
   "outputs": [],
   "source": [
    "# 출력 디렉토리 생성 (존재하지 않는 경우)\n",
    "if not os.path.exists(output_directory):\n",
    "    os.makedirs(output_directory)"
   ]
  },
  {
   "cell_type": "code",
   "execution_count": null,
   "metadata": {},
   "outputs": [],
   "source": [
    "# CSV 파일 헤더 정의 (필요한 컬럼만 유지)\n",
    "csv_headers = [\"ID\", \"성별\", \"나이\", \"학년\", \"유형구분\", \"가정환경\", \"상담일자\", \"평가일시\", \"작성자(상담사)\", \n",
    "               \"상호작용 특성(종합)\", \"긴장 수준(종합)\", \"행동 특성(종합)\", \"위기단계\", \"합계점수\", \"학대의심\", \n",
    "               \"행동특성 점수\", \"임상가 종합소견\"]"
   ]
  },
  {
   "cell_type": "code",
   "execution_count": null,
   "metadata": {},
   "outputs": [],
   "source": [
    "# 디렉토리 내의 모든 JSON 파일 변환\n",
    "for filename in os.listdir(input_directory):\n",
    "    if filename.endswith('.json'):\n",
    "        json_file_path = os.path.join(input_directory, filename)\n",
    "        csv_file_path = os.path.join(output_directory, filename.replace('.json', '.csv'))\n",
    "\n",
    "        # JSON 파일 읽기\n",
    "        with open(json_file_path, 'r', encoding='utf-8') as json_file:\n",
    "            data = json.load(json_file)\n",
    "\n",
    "        # CSV 파일 작성\n",
    "        with open(csv_file_path, 'w', newline='', encoding='utf-8') as csv_file:\n",
    "            csv_writer = csv.writer(csv_file)\n",
    "\n",
    "            # CSV 헤더 작성 (ID와 위기 단계만 유지, 이후 열 이름 없음)\n",
    "            csv_headers = ['ID', '위기 단계', '합계 점수'] #------- 이 부분에 필요한 컬럼 추가\n",
    "            for i in range(1, 101):\n",
    "                csv_headers.append(f'Q{i}')\n",
    "                csv_headers.append(f'A{i}')\n",
    "    \n",
    "            csv_writer.writerow(csv_headers) \n",
    "\n",
    "\n",
    "            # info 데이터에서 ID와 위기 단계 값만 가져오기\n",
    "            row_data = [\n",
    "                data['info'].get('ID', ''),             # 'ID' 값\n",
    "                data['info'].get('위기단계', ''),        # '위기 단계' 값\n",
    "                data['info'].get('합계점수', '')        # '합계 점수' 값\n",
    "                                                        # ------- 이 부분에서 값 가져오기\n",
    "            ]\n",
    "\n",
    "            # list 부분 추가\n",
    "            list_data = []\n",
    "            for item in data.get('list', []):\n",
    "                for sub_item in item.get('list', []):\n",
    "                    for audio in sub_item.get('audio', []):\n",
    "                        list_data.append(f\"{audio['type']}: {audio['text']}\")\n",
    "\n",
    "            # 추가 데이터를 이어붙임 (열 이름 없이 데이터만 추가)\n",
    "            row_data.extend(list_data)\n",
    "            \n",
    "            # 한 행으로 작성 (열 이름 없이 데이터 작성)\n",
    "            csv_writer.writerow(row_data)\n",
    "\n",
    "        print(f\"{filename} 변환 완료, {csv_file_path}에 저장되었습니다.\")\n"
   ]
  },
  {
   "cell_type": "code",
   "execution_count": null,
   "metadata": {},
   "outputs": [],
   "source": [
    "import pandas as pd\n",
    "from glob import glob\n",
    "\n",
    "# 폴더 내의 모든 CSV 파일 목록을 가져옴\n",
    "file_names = glob(\"out_csv/*.csv\")  # 파일 경로에 맞게 수정 필요\n",
    "\n",
    "# 빈 데이터프레임 생성\n",
    "total = pd.DataFrame()\n",
    "\n",
    "# 각 파일을 읽어서 total 데이터프레임에 합침\n",
    "for file_name in file_names:\n",
    "    temp = pd.read_csv(file_name, encoding='utf-8')  # 필요한 구분자 또는 인코딩을 사용\n",
    "    total = pd.concat([total, temp], ignore_index=True)\n",
    "\n",
    "# 최종적으로 합쳐진 파일을 저장\n",
    "total.to_csv(\"out_csv/total_combined_output.csv\", index=False)\n"
   ]
  }
 ],
 "metadata": {
  "kernelspec": {
   "display_name": "Python 3",
   "language": "python",
   "name": "python3"
  },
  "language_info": {
   "name": "python",
   "version": "3.12.1"
  }
 },
 "nbformat": 4,
 "nbformat_minor": 2
}
